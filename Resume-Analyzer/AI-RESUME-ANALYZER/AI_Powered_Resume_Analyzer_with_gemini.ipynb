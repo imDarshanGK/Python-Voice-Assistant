{
  "cells": [
    {
      "cell_type": "code",
      "source": [
        "import google.generativeai as genai\n",
        "from PyPDF2 import PdfReader\n",
        "from langchain.text_splitter import RecursiveCharacterTextSplitter\n"
      ],
      "metadata": {
        "id": "h7M0gvD4jP9X"
      },
      "execution_count": 70,
      "outputs": []
    },
    {
      "cell_type": "code",
      "source": [
        "\n",
        "genai.configure(api_key=\"GEMINI_API_KEY\")"
      ],
      "metadata": {
        "id": "0GyZS_wSDsGV"
      },
      "execution_count": null,
      "outputs": []
    },
    {
      "cell_type": "code",
      "source": [
        "generation_config = {\n",
        "    \"temperature\": 1,\n",
        "    \"top_p\": 0.95,\n",
        "    \"top_k\": 64,\n",
        "    \"max_output_tokens\": 8192,\n",
        "    \"response_mime_type\": \"text/plain\",\n",
        "}\n",
        "\n",
        "\n",
        "\n"
      ],
      "metadata": {
        "id": "N59C89bWiUtP"
      },
      "execution_count": 62,
      "outputs": []
    },
    {
      "cell_type": "code",
      "source": [
        "# Function to interact with Gemini AI\n",
        "def gemini_generate_response(prompt):\n",
        "    model = genai.GenerativeModel(\n",
        "        model_name=\"gemini-1.5-flash\",\n",
        "        generation_config=generation_config,\n",
        "    )\n",
        "\n",
        "    chat_session = model.start_chat(\n",
        "        history=[\n",
        "            {\"role\": \"user\", \"parts\": [prompt]},\n",
        "        ]\n",
        "    )\n",
        "\n",
        "    response = chat_session.send_message(prompt)\n",
        "    return response.text"
      ],
      "metadata": {
        "id": "hDk1YrwXisu_"
      },
      "execution_count": 63,
      "outputs": []
    },
    {
      "cell_type": "code",
      "source": [
        "\n",
        "# 1. **PDF Parsing**\n",
        "def parse_pdf(pdf_path):\n",
        "    reader = PdfReader(pdf_path)\n",
        "    text = \"\"\n",
        "    for page in reader.pages:\n",
        "        text += page.extract_text()\n",
        "    return text\n",
        "\n",
        "# 2. **Split Text into Chunks**\n",
        "def split_text_into_chunks(text):\n",
        "    text_splitter = RecursiveCharacterTextSplitter(chunk_size=700, chunk_overlap=200, length_function=len)\n",
        "    return text_splitter.split_text(text=text)\n",
        "\n"
      ],
      "metadata": {
        "id": "BHVoDu8YZnh8"
      },
      "execution_count": 64,
      "outputs": []
    },
    {
      "cell_type": "code",
      "source": [
        "\n",
        "# 3. **Summarize Resume**\n",
        "def resume_summary(chunks):\n",
        "    prompt = f'''\n",
        "    Provide a detailed summarization of the resume below:\n",
        "\n",
        "    \"\"\"\"\"\"\"\"\"\"\"\"\"\"\"\"\"\"\"\"\"\"\"\"\"\"\"\"\"\"\"\"\"\"\"\"\"\"\"\"\"\"\"\"\"\"\"\"\"\"\"\"\"\"\"\"\"\"\"\"\"\"\"\"\"\"\"\"\"\"\"\n",
        "    {chunks}\n",
        "    \"\"\"\"\"\"\"\"\"\"\"\"\"\"\"\"\"\"\"\"\"\"\"\"\"\"\"\"\"\"\"\"\"\"\"\"\"\"\"\"\"\"\"\"\"\"\"\"\"\"\"\"\"\"\"\"\"\"\"\"\"\"\"\"\"\"\"\"\"\"\"\n",
        "    '''\n",
        "    return gemini_generate_response(prompt)\n",
        "\n",
        "# 4. **Analyze Strengths**\n",
        "def resume_strength(chunks):\n",
        "    prompt = f'''\n",
        "    Analyze the strengths of the resume below and provide detailed insights:\n",
        "\n",
        "    \"\"\"\"\"\"\"\"\"\"\"\"\"\"\"\"\"\"\"\"\"\"\"\"\"\"\"\"\"\"\"\"\"\"\"\"\"\"\"\"\"\"\"\"\"\"\"\"\"\"\"\"\"\"\"\"\"\"\"\"\"\"\"\"\"\"\"\"\"\"\"\n",
        "    {chunks}\n",
        "    \"\"\"\"\"\"\"\"\"\"\"\"\"\"\"\"\"\"\"\"\"\"\"\"\"\"\"\"\"\"\"\"\"\"\"\"\"\"\"\"\"\"\"\"\"\"\"\"\"\"\"\"\"\"\"\"\"\"\"\"\"\"\"\"\"\"\"\"\"\"\"\n",
        "    '''\n",
        "    return gemini_generate_response(prompt)\n",
        "\n",
        "# 5. **Analyze Weaknesses**\n",
        "def resume_weakness(chunks):\n",
        "    prompt = f'''\n",
        "    Analyze the weaknesses of the resume below and suggest improvements to make it better:\n",
        "\n",
        "    \"\"\"\"\"\"\"\"\"\"\"\"\"\"\"\"\"\"\"\"\"\"\"\"\"\"\"\"\"\"\"\"\"\"\"\"\"\"\"\"\"\"\"\"\"\"\"\"\"\"\"\"\"\"\"\"\"\"\"\"\"\"\"\"\"\"\"\"\"\"\"\n",
        "    {chunks}\n",
        "    \"\"\"\"\"\"\"\"\"\"\"\"\"\"\"\"\"\"\"\"\"\"\"\"\"\"\"\"\"\"\"\"\"\"\"\"\"\"\"\"\"\"\"\"\"\"\"\"\"\"\"\"\"\"\"\"\"\"\"\"\"\"\"\"\"\"\"\"\"\"\"\n",
        "    '''\n",
        "    return gemini_generate_response(prompt)\n",
        "\n",
        "# 6. **Job Title Suggestions**\n",
        "def job_title_suggestion(chunks):\n",
        "    prompt = f'''\n",
        "    Based on the resume content below, suggest suitable job roles:\n",
        "\n",
        "    \"\"\"\"\"\"\"\"\"\"\"\"\"\"\"\"\"\"\"\"\"\"\"\"\"\"\"\"\"\"\"\"\"\"\"\"\"\"\"\"\"\"\"\"\"\"\"\"\"\"\"\"\"\"\"\"\"\"\"\"\"\"\"\"\"\"\"\"\"\"\"\n",
        "    {chunks}\n",
        "    \"\"\"\"\"\"\"\"\"\"\"\"\"\"\"\"\"\"\"\"\"\"\"\"\"\"\"\"\"\"\"\"\"\"\"\"\"\"\"\"\"\"\"\"\"\"\"\"\"\"\"\"\"\"\"\"\"\"\"\"\"\"\"\"\"\"\"\"\"\"\"\n",
        "    '''\n",
        "    return gemini_generate_response(prompt)\n",
        "\n"
      ],
      "metadata": {
        "id": "2wu8dMF0ZrUk"
      },
      "execution_count": 65,
      "outputs": []
    },
    {
      "cell_type": "code",
      "source": [
        "\n",
        "# Main Execution\n",
        "\n",
        "# Parse the PDF and get the text content\n",
        "pdf_path = \"/content/resume.pdf\"\n",
        "resume_text = parse_pdf(pdf_path)\n",
        "\n",
        "# Split the resume text into smaller chunks\n",
        "chunks = split_text_into_chunks(resume_text)"
      ],
      "metadata": {
        "id": "NgEOTY_DZsrb"
      },
      "execution_count": 66,
      "outputs": []
    },
    {
      "cell_type": "code",
      "source": [
        "print(chunks)"
      ],
      "metadata": {
        "colab": {
          "base_uri": "https://localhost:8080/"
        },
        "id": "mqboP6g3jhEu",
        "outputId": "7c433bd8-3969-4956-c276-95b3914705ad"
      },
      "execution_count": 67,
      "outputs": [
        {
          "output_type": "stream",
          "name": "stdout",
          "text": [
            "['Tasmia Chowdhur y \\n Mobile: (347) 272- 5559 |  tasmiachowdhury123  @gmail.com  | LinkedIn:  https://www.linkedin.com/in/tasmiachow/  | \\n Github:  https://github.com/tasmiachow \\n EDUCATION \\n CUNY Hunter College  Expected  Graduation: December 2024 \\n ●  Major: Computer Science \\n ❖  Minor: Applied Mathematics \\n ●  Relevant Coursework: Discrete Structures,  Data Structures and Algorithms, Web Development, Computer Architecture, \\n Symbolic Logic, Operating Systems, Computer Theory, CyberSecurity \\n EXPERIENCE \\n CUNY Tech Prep  July 2023 – Present \\n Fellow, Software Development/Data Science', 'Symbolic Logic, Operating Systems, Computer Theory, CyberSecurity \\n EXPERIENCE \\n CUNY Tech Prep  July 2023 – Present \\n Fellow, Software Development/Data Science \\n ●  Selected for a competitive data science fellowship with students from across the 11 CUNY senior colleges where \\n Fellows create technical projects using tools such as Python 3, Jupyter Notebooks, Pandas, Numpy, Scikit-learn, and \\n SQL. \\n ●  Participate in weekly courses and learn industry best practices for exploratory data analysis (EDA), feature engineering, \\n data collection and processing, statistical modeling, data visualization, machine learning techniques, data science \\n processes, and big data.', 'data collection and processing, statistical modeling, data visualization, machine learning techniques, data science \\n processes, and big data. \\n Google, New York, NY  July 2023 - October 2023 \\n Software Engineering Fellow \\n ●  Selected as one of 80 distinguished participants for a 10-week internship, engaging in real-world technical challenges \\n alongside a Senior Google SWE via intensive mentoring sessions and workshops. \\n ●  Tackled intricate technical problems, honing problem-solving abilities and self-reliance to advance skills in Data \\n Structures and Algorithm efficiency. \\n Barclays, Hanover NJ  December 2022 - February 2023 \\n Data Engineering Intern', \"Structures and Algorithm efficiency. \\n Barclays, Hanover NJ  December 2022 - February 2023 \\n Data Engineering Intern \\n ●  Enhanced data accessibility for Risk, Finance, and Treasury teams by employing Python's Pandas and data frames, \\n enabling seamless extraction and analysis of credit rating scores and enterprises, resulting in a 30% reduction in data \\n processing time. \\n ●  Led daily scrum meetings to foster a collaborative environment and ensure alignment with team objectives. \\n ●  Transformed raw data into dynamic visuals using Matplotlib, which allowed a clearer comprehension of financial trends \\n and patterns for key stakeholders.\", '●  Transformed raw data into dynamic visuals using Matplotlib, which allowed a clearer comprehension of financial trends \\n and patterns for key stakeholders. \\n ●  Amplified the utility of developed scripts by presenting and productizing innovative solutions to senior management, \\n effectively translating complex technical concepts into actionable tools \\n Digital Girl Inc., Brooklyn NY  January 2018 - September  2024 \\n Program Administrator, Lead Instructor \\n ●  Spearheaded development and implementation of new program modules, integrating emerging technologies and \\n industry-relevant content to create 21 flexible lesson plans for K-12 students and Senior Citizens.', 'industry-relevant content to create 21 flexible lesson plans for K-12 students and Senior Citizens. \\n ●  Instructed interactive coding sessions, employing Python, Scratch, Javascript, and HTML/CSS to impart technical skills \\n and digital literacy among the youth. \\n ●  Facilitated partnerships with schools and community organizations to expand program reach and accessibility, \\n increasing participation by 25% within targeted communities and underserved areas. \\n Girls Who Code @Hunter College, New York, NY  August 2023 - August 2024 \\n Public Relations Manager \\n ●  Developed and executed impactful communication campaigns, leveraging social media platforms and press releases to', \"Public Relations Manager \\n ●  Developed and executed impactful communication campaigns, leveraging social media platforms and press releases to \\n amplify the club's initiatives and events, resulting in a 30% increase in membership within one academic semester. \\n ●  Crafted visually captivating flyers, posters, and videos using Adobe Photoshop, Instagram Reels, and Illustrator. \\n Achieved a 45% increase in social media engagement. \\n PROJECTS \\n ●  Library Record System/API:  An object-oriented program  using C++ \\n ●  Hand2Words:  A machine learning/data science project  focusing on translating ASL to English in real-time. \\n TECHNICAL SKILLS\", '●  Hand2Words:  A machine learning/data science project  focusing on translating ASL to English in real-time. \\n TECHNICAL SKILLS \\n ●  Programming:  C++, HTML, CSS, Python, JavaScript, Node.js,  Express, Bash \\n ●  Technologies:  Spyder, Xcode, Git/GitHub, Adobe Photoshop,  Figma, Unix, Linux, Tableau, MongoDB \\n LANGUAGES \\n ●  Bilingual:  English and Bangla.']\n"
          ]
        }
      ]
    },
    {
      "cell_type": "code",
      "source": [
        "#print the summary\n",
        "print(resume_summary(chunks))"
      ],
      "metadata": {
        "colab": {
          "base_uri": "https://localhost:8080/",
          "height": 610
        },
        "id": "V4CF69LRjmiJ",
        "outputId": "b31fadc4-5902-4049-a786-7c95a404a7fe"
      },
      "execution_count": 71,
      "outputs": [
        {
          "output_type": "stream",
          "name": "stdout",
          "text": [
            "## Tasmia Chowdhury's Resume Summary:\n",
            "\n",
            "Tasmia Chowdhury is a highly motivated and skilled Computer Science student at CUNY Hunter College, expected to graduate in December 2024 with a minor in Applied Mathematics. She possesses a strong academic background with relevant coursework in areas like Data Structures, Algorithms, Web Development, and Cybersecurity. \n",
            "\n",
            "Tasmia's professional experience demonstrates her passion for software development and data science. She has held several internships and fellowship positions, highlighting her practical skills and eagerness to learn. \n",
            "\n",
            "**Key Highlights:**\n",
            "\n",
            "* **Data Science & Software Development Experience:** Tasmia has actively participated in various data science and software development projects, showcasing her proficiency in Python, SQL, and other related tools. \n",
            "* **Problem-Solving & Technical Skills:** She has tackled complex technical challenges in real-world scenarios, showcasing her ability to think critically and creatively solve problems.\n",
            "* **Leadership & Collaboration:** Tasmia has actively participated in collaborative environments, taking initiative in leading teams and fostering a positive work environment.\n",
            "* **Strong Communication & Presentation Skills:** She effectively communicates complex technical concepts to both technical and non-technical audiences, demonstrating her ability to present information in a clear and concise manner.\n",
            "* **Community Engagement:** Tasmia has a strong commitment to community engagement, demonstrating her passion for empowering youth through education and technology.\n",
            "\n",
            "**Specific Achievements:**\n",
            "\n",
            "* **Google Software Engineering Fellow:** Selected as one of 80 distinguished participants in a 10-week internship program at Google, focusing on real-world technical challenges.\n",
            "* **CUNY Tech Prep Data Science Fellow:** Selected for a competitive data science fellowship, working on technical projects using Python, Jupyter Notebooks, Pandas, and other relevant tools.\n",
            "* **Barclays Data Engineering Intern:** Enhanced data accessibility for various teams using Python's Pandas and data frames, leading to a 30% reduction in data processing time.\n",
            "* **Digital Girl Inc. Program Administrator & Lead Instructor:** Spearheaded development and implementation of new program modules, creating 21 flexible lesson plans for K-12 students and senior citizens.\n",
            "\n",
            "**Project Experience:**\n",
            "\n",
            "* **Library Record System/API:** Developed an object-oriented program using C++.\n",
            "* **Hand2Words:** Developed a machine learning project focusing on translating ASL to English in real-time.\n",
            "\n",
            "**Technical Skills:**\n",
            "\n",
            "* Programming: C++, HTML, CSS, Python, JavaScript, Node.js, Express, Bash\n",
            "* Technologies: Spyder, Xcode, Git/GitHub, Adobe Photoshop, Figma, Unix, Linux, Tableau, MongoDB\n",
            "\n",
            "**Overall, Tasmia Chowdhury is a promising Computer Science student with a strong academic foundation, practical skills, and a passion for data science and software development. She is a valuable asset to any team and has the potential to contribute significantly to the technology industry.** \n",
            "\n"
          ]
        }
      ]
    },
    {
      "cell_type": "code",
      "source": [
        "#print strength\n",
        "print(resume_strength(chunks))"
      ],
      "metadata": {
        "colab": {
          "base_uri": "https://localhost:8080/",
          "height": 610
        },
        "id": "nACbc74cjv-z",
        "outputId": "27a9e8f2-7a99-4b58-e90a-f531c9d22e65"
      },
      "execution_count": 72,
      "outputs": [
        {
          "output_type": "stream",
          "name": "stdout",
          "text": [
            "This resume showcases several strengths, highlighting Tasmia's skills and experiences in a clear and concise manner. Let's break down the key strengths:\n",
            "\n",
            "**1. Strong Focus on Technical Skills and Experiences:**\n",
            "\n",
            "* **Relevant Coursework:** Tasmia lists a diverse range of technical coursework, demonstrating a solid foundation in Computer Science, including key areas like Data Structures and Algorithms, Web Development, and Cybersecurity.\n",
            "* **Quantifiable Achievements:** Tasmia provides clear examples of her accomplishments in each role. She uses specific numbers to illustrate her impact, such as a 30% reduction in data processing time at Barclays or a 25% increase in participation at Digital Girl Inc. This approach makes her contributions more tangible and impactful.\n",
            "* **Technical Skills Section:** The \"TECHNICAL SKILLS\" section effectively lists programming languages (C++, Python, JavaScript, etc.) and technologies (Git/GitHub, Adobe Photoshop, Tableau, MongoDB). This section clearly showcases Tasmia's proficiency in various tools and platforms.\n",
            "\n",
            "**2.  Well-Structured and Easy-to-Read:**\n",
            "\n",
            "* **Clear Formatting:** The resume follows a standard format with clear headings and bullet points. This makes it easy for recruiters to quickly grasp the information presented.\n",
            "* **Organized by Categories:**  The resume is logically structured with sections for Education, Experience, Projects, Technical Skills, and Languages, creating a seamless flow of information.\n",
            "* **Concise Language:**  The descriptions are concise and focused on showcasing key achievements and skills, avoiding unnecessary jargon or overly verbose language.\n",
            "\n",
            "**3. Demonstrated Passion and Engagement:**\n",
            "\n",
            "* **Multiple Relevant Roles:**  Tasmia has held several internships and roles in various fields, indicating her eagerness to gain experience in different areas of software development and data science.\n",
            "* **Active Involvement in Extracurriculars:** Her involvement in \"Girls Who Code @Hunter College\" and \"CUNY Tech Prep\" demonstrates her commitment to the field and her desire to contribute to the tech community.\n",
            "* **Personal Projects:**  The inclusion of personal projects like \"Library Record System/API\" and \"Hand2Words\" suggests Tasmia is driven and enjoys taking initiative in exploring new technologies and concepts.\n",
            "\n",
            "**4. Professional Presentation:**\n",
            "\n",
            "* **Contact Information:**  Tasmia provides her mobile phone number, email address, LinkedIn profile, and GitHub repository. This makes it easy for potential employers to contact her and learn more about her work.\n",
            "* **Strong Language:**  The resume uses action verbs and positive language to highlight her abilities and achievements, leaving a good impression on the reader.\n",
            "\n",
            "**Areas for Improvement:**\n",
            "\n",
            "* **Expand on Project Descriptions:** While projects are listed, providing a brief overview of their scope, goals, and challenges could strengthen the resume.\n",
            "* **Tailor to Specific Roles:** For future resumes, Tasmia could tailor her experience and skills to match specific job descriptions for greater impact.\n",
            "\n",
            "**Overall:** \n",
            "This resume is a strong starting point. With a few minor adjustments, Tasmia can further enhance her resume to stand out in a competitive job market. \n",
            "\n"
          ]
        }
      ]
    },
    {
      "cell_type": "code",
      "source": [
        "#print weakness\n",
        "print(resume_weakness(chunks))"
      ],
      "metadata": {
        "colab": {
          "base_uri": "https://localhost:8080/",
          "height": 1000
        },
        "id": "x0DOnNz9kagC",
        "outputId": "58b1becc-3e2a-4f27-9896-2d795f414c1f"
      },
      "execution_count": 73,
      "outputs": [
        {
          "output_type": "stream",
          "name": "stdout",
          "text": [
            "This resume has some strengths, like a good list of technical skills and relevant experience. However, it needs significant improvement to be truly effective. Here's a breakdown of the weaknesses and suggestions for improvement:\n",
            "\n",
            "**Weaknesses:**\n",
            "\n",
            "1. **Format:** The resume is in a list format which is very hard to read and understand.  A traditional resume structure with clear headings and sections is essential.\n",
            "2. **Spacing and Aesthetics:** There is no consistent spacing, making the content look cluttered and unprofessional.\n",
            "3. **Inconsistent Bullet Point Style:**  Using both \"●\" and \"❖\"  for bullet points creates an inconsistent look.\n",
            "4. **Redundant Information:** Some information is repeated, like the \"EXPERIENCE\" heading appearing multiple times.\n",
            "5. **Lack of Quantifiable Results:** While you mention increases and reductions, there's a lack of quantifiable data to really showcase the impact of your accomplishments.\n",
            "6. **Limited Detail in Projects:**  The \"PROJECTS\" section is brief.  Expand with details about the project scope, your role, and the technologies used.\n",
            "7. **Unclear Objective:**  The resume doesn't clearly articulate your career goals.\n",
            "\n",
            "**Improvements:**\n",
            "\n",
            "**1.  Resume Structure:**\n",
            "\n",
            "* **Use a standard resume format:** Adopt a traditional resume layout with clear sections for:\n",
            "    * **Contact Information:**\n",
            "        * Full Name (Bold)\n",
            "        * Phone Number\n",
            "        * Email Address \n",
            "        * LinkedIn Profile URL (Optional)\n",
            "        * Github Profile URL (Optional)\n",
            "    * **Summary/Objective:**  A concise paragraph outlining your skills, experience, and career aspirations.\n",
            "    * **Education:** Include your degree, expected graduation date, major, and any relevant minors or coursework.\n",
            "    * **Experience:**  List your work experience in reverse chronological order.  Use action verbs and quantify your accomplishments. \n",
            "    * **Projects:**  Expand upon the details of your projects, providing clear descriptions of what you built, your contributions, and the technologies used.\n",
            "    * **Skills:**  Categorize your skills (Programming, Technologies, Languages).\n",
            "\n",
            "**2.  Formatting:**\n",
            "\n",
            "* **Use a consistent font:** Choose a professional, easy-to-read font (e.g., Arial, Calibri, Times New Roman).\n",
            "* **Spacing:** Ensure consistent spacing between headings, bullet points, and paragraphs.  Use white space to improve readability. \n",
            "* **Bullet Points:** Use a single consistent bullet point style (e.g., \"●\") throughout the document. \n",
            "\n",
            "**3.  Content Improvements:**\n",
            "\n",
            "* **Summary/Objective:**\n",
            "    * This section is essential for highlighting your key skills and career goals. \n",
            "    * Example:  \"Highly motivated and results-driven Computer Science student with a strong foundation in data science and software development, seeking an entry-level role to contribute to innovative projects.\"\n",
            "* **Experience:**\n",
            "    * **Quantify your accomplishments:** Instead of saying \"increased participation,\" provide specific metrics (e.g., \"increased participation by 25%\"). \n",
            "    * **Focus on accomplishments, not tasks:**  Describe the impact of your work.\n",
            "    * **Tailor to your target roles:** Highlight relevant skills and experience for the jobs you're applying for.\n",
            "* **Projects:**\n",
            "    * **Expand on details:** Explain the project's purpose, your role, the technologies used, and any outcomes (e.g., results, recognition, or awards). \n",
            "* **Skills:**\n",
            "    * Include specific technologies and tools relevant to your desired role.\n",
            "\n",
            "**4.  Proofreading and Editing:**\n",
            "\n",
            "* **Proofread carefully:** Ensure there are no grammatical errors or typos.\n",
            "* **Have someone else review your resume:**  A fresh perspective can help identify areas for improvement.\n",
            "\n",
            "**Example (Partial) of Restructured Resume:**\n",
            "\n",
            "```\n",
            "**Tasmia Chowdhury**\n",
            "(347) 272-5559 | tasmiachowdhury123@gmail.com | https://www.linkedin.com/in/tasmiachow/\n",
            "https://github.com/tasmiachow\n",
            "\n",
            "**Summary**\n",
            "Highly motivated and results-driven Computer Science student with a passion for data science and software development.  Seeking an entry-level role where I can leverage my technical skills to contribute to innovative projects. Proven ability to collaborate effectively in team environments and deliver impactful results. \n",
            "\n",
            "**Education**\n",
            "CUNY Hunter College, New York, NY  | Expected Graduation: December 2024\n",
            "* Bachelor of Science in Computer Science\n",
            "* Minor: Applied Mathematics\n",
            "* Relevant Coursework: Discrete Structures, Data Structures and Algorithms, Web Development, Computer Architecture, Symbolic Logic, Operating Systems, Computer Theory, Cybersecurity\n",
            "\n",
            "**Experience**\n",
            "\n",
            "**CUNY Tech Prep Fellow, Software Development/Data Science** | July 2023 - Present\n",
            "* Selected for a competitive data science fellowship, collaborating with students from across the 11 CUNY senior colleges.\n",
            "* Developed technical projects using Python 3, Jupyter Notebooks, Pandas, Numpy, Scikit-learn, and SQL.\n",
            "* Contributed to a 25% increase in program participation by facilitating partnerships with schools and community organizations.\n",
            "\n",
            "**Software Engineering Fellow** | Google, New York, NY  | July 2023 - October 2023\n",
            "* Engaged in real-world technical challenges during a 10-week internship with intensive mentoring sessions and workshops.\n",
            "* Tackled intricate technical problems, honing problem-solving abilities and self-reliance. \n",
            "* Advanced skills in data structures and algorithm efficiency through hands-on projects.\n",
            "\n",
            "**Data Engineering Intern** | Barclays, Hanover NJ  | December 2022 - February 2023\n",
            "* Enhanced data accessibility for Risk, Finance, and Treasury teams, leading to a 30% reduction in data processing time. \n",
            "* Utilized Python's Pandas and data frames to extract and analyze credit rating scores and enterprises.\n",
            "* Led daily scrum meetings to foster a collaborative environment and ensure alignment with team objectives.\n",
            "\n",
            "**Projects**\n",
            "\n",
            "* **Library Record System/API:** Developed an object-oriented program using C++ to manage library records, improving efficiency and user experience.\n",
            "* **Hand2Words:**  Developed a machine learning/data science project to translate American Sign Language to English in real-time, leveraging Python libraries for image processing and natural language processing.\n",
            "\n",
            "**Skills**\n",
            "\n",
            "**Programming:**  C++, HTML, CSS, Python, JavaScript, Node.js, Express, Bash\n",
            "**Technologies:**  Spyder, Xcode, Git/GitHub, Adobe Photoshop, Figma, Unix, Linux, Tableau, MongoDB \n",
            "**Languages:**  Bilingual: English and Bangla \n",
            "```\n",
            "\n",
            "**Remember:** This is a sample. You need to tailor your resume to your specific skills and the roles you are targeting. \n",
            "\n"
          ]
        }
      ]
    },
    {
      "cell_type": "code",
      "source": [
        "#print jobroles\n",
        "print(job_title_suggestion(chunks))"
      ],
      "metadata": {
        "colab": {
          "base_uri": "https://localhost:8080/",
          "height": 540
        },
        "id": "RjTbL3k0kesI",
        "outputId": "001490ce-8367-49ae-bcd2-7f94e46bb0a7"
      },
      "execution_count": 74,
      "outputs": [
        {
          "output_type": "stream",
          "name": "stdout",
          "text": [
            "Based on the resume content, here are some suitable job roles for Tasmia Chowdhury:\n",
            "\n",
            "**Entry-Level Roles:**\n",
            "\n",
            "* **Junior Data Scientist:** Her experience with data analysis, machine learning, and tools like Python, Pandas, Numpy, and Scikit-learn make her a strong candidate for entry-level data scientist roles.\n",
            "* **Junior Software Engineer:**  Her skills in Python, JavaScript, C++, and experience in web development and data structures make her a good fit for entry-level software engineering positions.\n",
            "* **Data Analyst:** Her ability to collect, process, analyze, and visualize data, along with experience using SQL, would be valuable for data analyst roles. \n",
            "* **Data Engineer:** Her skills in Python, Pandas, data transformation, and experience with databases make her a suitable candidate for entry-level data engineering roles.\n",
            "\n",
            "**Roles Leveraging her Skills and Experience:**\n",
            "\n",
            "* **Machine Learning Engineer:**  Her projects and experience with machine learning techniques make her a potential candidate for this role. \n",
            "* **Full Stack Developer:** Her proficiency in both front-end (HTML, CSS, JavaScript) and back-end (Python, Node.js) technologies make her well-suited for full-stack development roles.\n",
            "* **Data Science Consultant:** With her data science knowledge and experience, she could potentially work as a consultant helping organizations with data analysis and machine learning projects.\n",
            "\n",
            "**Factors to Consider:**\n",
            "\n",
            "* **Job Market:** Research the current job market and the specific needs of the companies she is interested in.\n",
            "* **Desired Industry:** Does she have a preference for a particular industry like finance, technology, or healthcare?\n",
            "* **Location:**  Her experience suggests she is open to working in New York or New Jersey, but she should consider her geographic preferences.\n",
            "\n",
            "**Additional Tips:**\n",
            "\n",
            "* **Tailor Her Resume:** Customize her resume for each specific job application, highlighting the most relevant skills and experiences.\n",
            "* **Networking:** Attending industry events and connecting with professionals in her desired fields can increase her chances of landing a job.\n",
            "* **Projects:**  Continue building her portfolio with personal projects, particularly in machine learning or software development.\n",
            "\n",
            "By focusing on these roles and tailoring her resume and approach, Tasmia can increase her chances of securing a suitable position in the tech industry. \n",
            "\n"
          ]
        }
      ]
    },
    {
      "cell_type": "code",
      "source": [],
      "metadata": {
        "id": "8sQUg9FGkiVE"
      },
      "execution_count": null,
      "outputs": []
    }
  ],
  "metadata": {
    "kernelspec": {
      "display_name": "Python 3",
      "language": "python",
      "name": "python3"
    },
    "language_info": {
      "codemirror_mode": {
        "name": "ipython",
        "version": 3
      },
      "file_extension": ".py",
      "mimetype": "text/x-python",
      "name": "python",
      "nbconvert_exporter": "python",
      "pygments_lexer": "ipython3",
      "version": "3.11.6"
    },
    "orig_nbformat": 4,
    "colab": {
      "provenance": []
    }
  },
  "nbformat": 4,
  "nbformat_minor": 0
}